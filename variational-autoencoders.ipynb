{
 "cells": [
  {
   "cell_type": "markdown",
   "metadata": {
    "papermill": {
     "duration": 0.011518,
     "end_time": "2021-03-03T20:10:00.553099",
     "exception": false,
     "start_time": "2021-03-03T20:10:00.541581",
     "status": "completed"
    },
    "tags": []
   },
   "source": [
    "# An Introduction to Variational Autoencoders"
   ]
  },
  {
   "cell_type": "markdown",
   "metadata": {
    "papermill": {
     "duration": 0.009445,
     "end_time": "2021-03-03T20:10:00.572314",
     "exception": false,
     "start_time": "2021-03-03T20:10:00.562869",
     "status": "completed"
    },
    "tags": []
   },
   "source": [
    "# Imports"
   ]
  },
  {
   "cell_type": "code",
   "execution_count": 1,
   "metadata": {
    "papermill": {
     "duration": 7.333507,
     "end_time": "2021-03-03T20:10:07.915176",
     "exception": false,
     "start_time": "2021-03-03T20:10:00.581669",
     "status": "completed"
    },
    "tags": []
   },
   "outputs": [
    {
     "name": "stderr",
     "output_type": "stream",
     "text": [
      "2024-06-27 05:17:41.140165: E external/local_xla/xla/stream_executor/cuda/cuda_dnn.cc:9373] Unable to register cuDNN factory: Attempting to register factory for plugin cuDNN when one has already been registered\n",
      "2024-06-27 05:17:41.140246: E external/local_xla/xla/stream_executor/cuda/cuda_fft.cc:607] Unable to register cuFFT factory: Attempting to register factory for plugin cuFFT when one has already been registered\n",
      "2024-06-27 05:17:41.141905: E external/local_xla/xla/stream_executor/cuda/cuda_blas.cc:1534] Unable to register cuBLAS factory: Attempting to register factory for plugin cuBLAS when one has already been registered\n",
      "2024-06-27 05:17:41.150269: I tensorflow/core/platform/cpu_feature_guard.cc:183] This TensorFlow binary is optimized to use available CPU instructions in performance-critical operations.\n",
      "To enable the following instructions: SSE3 SSE4.1 SSE4.2 AVX, in other operations, rebuild TensorFlow with the appropriate compiler flags.\n"
     ]
    }
   ],
   "source": [
    "# For working with and visualizing the data\n",
    "import numpy as np\n",
    "import pandas as pd\n",
    "import matplotlib.pyplot as plt\n",
    "\n",
    "# For training the VAE\n",
    "import tensorflow as tf\n",
    "\n",
    "# For creating interactive widgets\n",
    "import ipywidgets as widgets\n",
    "from IPython.display import display"
   ]
  },
  {
   "cell_type": "code",
   "execution_count": 2,
   "metadata": {
    "papermill": {
     "duration": 4.066101,
     "end_time": "2021-03-03T20:10:11.991331",
     "exception": false,
     "start_time": "2021-03-03T20:10:07.925230",
     "status": "completed"
    },
    "tags": []
   },
   "outputs": [],
   "source": [
    "# Load the data from a .csv file\n",
    "pixel_data = pd.read_csv('/workspace/Day 9/age_gender.csv')['pixels']"
   ]
  },
  {
   "cell_type": "code",
   "execution_count": 3,
   "metadata": {
    "papermill": {
     "duration": 9.194914,
     "end_time": "2021-03-03T20:10:21.196089",
     "exception": false,
     "start_time": "2021-03-03T20:10:12.001175",
     "status": "completed"
    },
    "tags": []
   },
   "outputs": [],
   "source": [
    "# Shuffle the data\n",
    "pixel_data = pixel_data.sample(frac=1.0, random_state=1)  # Shuffle the DataFrame with a fixed random state for reproducibility\n",
    "\n",
    "# Convert the data into a NumPy array\n",
    "pixel_data = pixel_data.apply(lambda x: np.array(x.split(\" \"), dtype=np.int32))  # Split each string into a list of integers and convert to NumPy array with int32 dtype\n",
    "pixel_data = np.stack(np.array(pixel_data), axis=0)  # Stack the arrays into a single NumPy array\n",
    "\n",
    "# Rescale pixel values to be between 0 and 1\n",
    "pixel_data = pixel_data * (1.0 / 255)  # Scale the pixel values to the range [0, 1]"
   ]
  },
  {
   "cell_type": "code",
   "execution_count": 4,
   "metadata": {
    "papermill": {
     "duration": 0.020232,
     "end_time": "2021-03-03T20:10:21.226451",
     "exception": false,
     "start_time": "2021-03-03T20:10:21.206219",
     "status": "completed"
    },
    "tags": []
   },
   "outputs": [
    {
     "data": {
      "text/plain": [
       "(23705, 2304)"
      ]
     },
     "execution_count": 4,
     "metadata": {},
     "output_type": "execute_result"
    }
   ],
   "source": [
    "# The data is now a NumPy array of 23705 images (each represented as a 1-D vector of 2304 pixels)\n",
    "# (2304 is 48^2, so we are working with 48x48x1 images)\n",
    "pixel_data.shape"
   ]
  },
  {
   "cell_type": "markdown",
   "metadata": {
    "papermill": {
     "duration": 0.00967,
     "end_time": "2021-03-03T20:10:21.246382",
     "exception": false,
     "start_time": "2021-03-03T20:10:21.236712",
     "status": "completed"
    },
    "tags": []
   },
   "source": [
    "# Building the VAE  \n",
    "  \n",
    "We need to create a custom Sampling layer to sample the latent variables from a normal distribution with mean and variance given by the encoder."
   ]
  },
  {
   "cell_type": "code",
   "execution_count": 5,
   "metadata": {
    "papermill": {
     "duration": 0.019905,
     "end_time": "2021-03-03T20:10:21.276308",
     "exception": false,
     "start_time": "2021-03-03T20:10:21.256403",
     "status": "completed"
    },
    "tags": []
   },
   "outputs": [],
   "source": [
    "class Sampling(tf.keras.layers.Layer):\n",
    "    def call(self, inputs):\n",
    "        z_mean, z_log_var = inputs  # Unpack the inputs into mean and log-variance\n",
    "        batch = tf.shape(z_mean)[0]  # Get the batch size\n",
    "        dim = tf.shape(z_mean)[1]  # Get the dimensionality of the latent space\n",
    "        epsilon = tf.keras.backend.random_normal(shape=(batch, dim))  # Sample from standard normal distribution\n",
    "        return epsilon * tf.exp(z_log_var * 0.5) + z_mean  # Apply the reparameterization trick"
   ]
  },
  {
   "cell_type": "code",
   "execution_count": 6,
   "metadata": {
    "papermill": {
     "duration": 0.024263,
     "end_time": "2021-03-03T20:10:21.310725",
     "exception": false,
     "start_time": "2021-03-03T20:10:21.286462",
     "status": "completed"
    },
    "tags": []
   },
   "outputs": [],
   "source": [
    "def build_vae(num_pixels, num_latent_vars=3):\n",
    "    \n",
    "    # Encoder\n",
    "    encoder_inputs = tf.keras.Input(shape=(num_pixels,))  # Input layer for the encoder\n",
    "    x = tf.keras.layers.Dense(512, activation='relu')(encoder_inputs)  # First dense layer with 512 units and ReLU activation\n",
    "    x = tf.keras.layers.Dense(128, activation='relu')(x)  # Second dense layer with 128 units and ReLU activation\n",
    "    x = tf.keras.layers.Dense(32, activation='relu')(x)  # Third dense layer with 32 units and ReLU activation\n",
    "    z_mean = tf.keras.layers.Dense(num_latent_vars)(x)  # Dense layer for the mean of the latent variables\n",
    "    z_log_var = tf.keras.layers.Dense(num_latent_vars)(z_mean)  # Dense layer for the log-variance of the latent variables\n",
    "    z = Sampling()([z_mean, z_log_var])  # Sampling layer to sample the latent variables using the reparameterization trick\n",
    "    \n",
    "    encoder = tf.keras.Model(inputs=encoder_inputs, outputs=z)  # Define the encoder model\n",
    "    \n",
    "    # Decoder\n",
    "    decoder_inputs = tf.keras.Input(shape=(num_latent_vars,))  # Input layer for the decoder\n",
    "    x = tf.keras.layers.Dense(32, activation='relu')(decoder_inputs)  # First dense layer with 32 units and ReLU activation\n",
    "    x = tf.keras.layers.Dense(128, activation='relu')(x)  # Second dense layer with 128 units and ReLU activation\n",
    "    x = tf.keras.layers.Dense(512, activation='relu')(x)  # Third dense layer with 512 units and ReLU activation\n",
    "    reconstruction = tf.keras.layers.Dense(num_pixels, activation='linear')(x)  # Output dense layer with 'num_pixels' units and linear activation\n",
    "    \n",
    "    decoder = tf.keras.Model(inputs=decoder_inputs, outputs=reconstruction)  # Define the decoder model\n",
    "    \n",
    "    # Full model\n",
    "    model_inputs = encoder.input  # Inputs of the full VAE model are the inputs of the encoder\n",
    "    model_outputs = decoder(encoder.output)  # Outputs of the full VAE model are the outputs of the decoder, given the encoder's output\n",
    "    \n",
    "    model = tf.keras.Model(inputs=model_inputs, outputs=model_outputs)  # Define the full VAE model\n",
    "    \n",
    "    # Compile model for training\n",
    "    model.compile(\n",
    "        optimizer='adam',  # Adam optimizer\n",
    "        loss='mse'  # Mean Squared Error (MSE) loss function\n",
    "    )\n",
    "    \n",
    "    # Return all three models\n",
    "    return encoder, decoder, model  # Return the encoder, decoder, and full VAE models\n"
   ]
  },
  {
   "cell_type": "code",
   "execution_count": 7,
   "metadata": {
    "papermill": {
     "duration": 0.271238,
     "end_time": "2021-03-03T20:10:21.592656",
     "exception": false,
     "start_time": "2021-03-03T20:10:21.321418",
     "status": "completed"
    },
    "tags": []
   },
   "outputs": [
    {
     "name": "stderr",
     "output_type": "stream",
     "text": [
      "2024-06-27 05:17:49.168208: I tensorflow/core/common_runtime/gpu/gpu_device.cc:1926] Created device /job:localhost/replica:0/task:0/device:GPU:0 with 2970 MB memory:  -> device: 0, name: NVIDIA A100-SXM4-40GB MIG 1g.5gb, pci bus id: 0000:47:00.0, compute capability: 8.0\n"
     ]
    }
   ],
   "source": [
    "face_encoder, face_decoder, face_model = build_vae(num_pixels=2304, num_latent_vars=3)"
   ]
  },
  {
   "cell_type": "code",
   "execution_count": 8,
   "metadata": {
    "papermill": {
     "duration": 0.024085,
     "end_time": "2021-03-03T20:10:21.628562",
     "exception": false,
     "start_time": "2021-03-03T20:10:21.604477",
     "status": "completed"
    },
    "tags": []
   },
   "outputs": [
    {
     "name": "stdout",
     "output_type": "stream",
     "text": [
      "Model: \"model\"\n",
      "__________________________________________________________________________________________________\n",
      " Layer (type)                Output Shape                 Param #   Connected to                  \n",
      "==================================================================================================\n",
      " input_1 (InputLayer)        [(None, 2304)]               0         []                            \n",
      "                                                                                                  \n",
      " dense (Dense)               (None, 512)                  1180160   ['input_1[0][0]']             \n",
      "                                                                                                  \n",
      " dense_1 (Dense)             (None, 128)                  65664     ['dense[0][0]']               \n",
      "                                                                                                  \n",
      " dense_2 (Dense)             (None, 32)                   4128      ['dense_1[0][0]']             \n",
      "                                                                                                  \n",
      " dense_3 (Dense)             (None, 3)                    99        ['dense_2[0][0]']             \n",
      "                                                                                                  \n",
      " dense_4 (Dense)             (None, 3)                    12        ['dense_3[0][0]']             \n",
      "                                                                                                  \n",
      " sampling (Sampling)         (None, 3)                    0         ['dense_3[0][0]',             \n",
      "                                                                     'dense_4[0][0]']             \n",
      "                                                                                                  \n",
      "==================================================================================================\n",
      "Total params: 1250063 (4.77 MB)\n",
      "Trainable params: 1250063 (4.77 MB)\n",
      "Non-trainable params: 0 (0.00 Byte)\n",
      "__________________________________________________________________________________________________\n",
      "None\n"
     ]
    }
   ],
   "source": [
    "print(face_encoder.summary())"
   ]
  },
  {
   "cell_type": "code",
   "execution_count": 9,
   "metadata": {
    "papermill": {
     "duration": 0.022395,
     "end_time": "2021-03-03T20:10:21.662438",
     "exception": false,
     "start_time": "2021-03-03T20:10:21.640043",
     "status": "completed"
    },
    "tags": []
   },
   "outputs": [
    {
     "name": "stdout",
     "output_type": "stream",
     "text": [
      "Model: \"model_1\"\n",
      "_________________________________________________________________\n",
      " Layer (type)                Output Shape              Param #   \n",
      "=================================================================\n",
      " input_2 (InputLayer)        [(None, 3)]               0         \n",
      "                                                                 \n",
      " dense_5 (Dense)             (None, 32)                128       \n",
      "                                                                 \n",
      " dense_6 (Dense)             (None, 128)               4224      \n",
      "                                                                 \n",
      " dense_7 (Dense)             (None, 512)               66048     \n",
      "                                                                 \n",
      " dense_8 (Dense)             (None, 2304)              1181952   \n",
      "                                                                 \n",
      "=================================================================\n",
      "Total params: 1252352 (4.78 MB)\n",
      "Trainable params: 1252352 (4.78 MB)\n",
      "Non-trainable params: 0 (0.00 Byte)\n",
      "_________________________________________________________________\n",
      "None\n"
     ]
    }
   ],
   "source": [
    "print(face_decoder.summary())"
   ]
  },
  {
   "cell_type": "markdown",
   "metadata": {
    "papermill": {
     "duration": 0.010665,
     "end_time": "2021-03-03T20:10:21.684357",
     "exception": false,
     "start_time": "2021-03-03T20:10:21.673692",
     "status": "completed"
    },
    "tags": []
   },
   "source": [
    "# Train the VAE  \n",
    "  \n",
    "We will use *pixel_data* as both the input to the model and the target to compare the output to."
   ]
  },
  {
   "cell_type": "code",
   "execution_count": 10,
   "metadata": {
    "papermill": {
     "duration": 291.516987,
     "end_time": "2021-03-03T20:15:13.212642",
     "exception": false,
     "start_time": "2021-03-03T20:10:21.695655",
     "status": "completed"
    },
    "scrolled": true,
    "tags": []
   },
   "outputs": [
    {
     "name": "stdout",
     "output_type": "stream",
     "text": [
      "Epoch 1/100\n"
     ]
    },
    {
     "name": "stderr",
     "output_type": "stream",
     "text": [
      "2024-06-27 05:17:51.587242: I external/local_xla/xla/service/service.cc:168] XLA service 0x7f6aa0afc6d0 initialized for platform CUDA (this does not guarantee that XLA will be used). Devices:\n",
      "2024-06-27 05:17:51.587279: I external/local_xla/xla/service/service.cc:176]   StreamExecutor device (0): NVIDIA A100-SXM4-40GB MIG 1g.5gb, Compute Capability 8.0\n",
      "2024-06-27 05:17:51.593598: I tensorflow/compiler/mlir/tensorflow/utils/dump_mlir_util.cc:269] disabling MLIR crash reproducer, set env var `MLIR_CRASH_REPRODUCER_DIRECTORY` to enable.\n",
      "2024-06-27 05:17:51.637878: I external/local_xla/xla/stream_executor/cuda/cuda_dnn.cc:467] Loaded cuDNN version 90100\n",
      "WARNING: All log messages before absl::InitializeLog() is called are written to STDERR\n",
      "I0000 00:00:1719465471.757654  237201 device_compiler.h:186] Compiled cluster using XLA!  This line is logged at most once for the lifetime of the process.\n"
     ]
    },
    {
     "name": "stdout",
     "output_type": "stream",
     "text": [
      "593/593 [==============================] - 6s 4ms/step - loss: 0.0260 - val_loss: 0.0219\n",
      "Epoch 2/100\n",
      "593/593 [==============================] - 2s 3ms/step - loss: 0.0217 - val_loss: 0.0216\n",
      "Epoch 3/100\n",
      "593/593 [==============================] - 2s 4ms/step - loss: 0.0215 - val_loss: 0.0215\n",
      "Epoch 4/100\n",
      "593/593 [==============================] - 2s 4ms/step - loss: 0.0214 - val_loss: 0.0214\n",
      "Epoch 5/100\n",
      "593/593 [==============================] - 2s 3ms/step - loss: 0.0213 - val_loss: 0.0212\n",
      "Epoch 6/100\n",
      "593/593 [==============================] - 2s 3ms/step - loss: 0.0212 - val_loss: 0.0212\n",
      "Epoch 7/100\n",
      "593/593 [==============================] - 2s 3ms/step - loss: 0.0211 - val_loss: 0.0215\n",
      "Epoch 8/100\n",
      "593/593 [==============================] - 2s 3ms/step - loss: 0.0210 - val_loss: 0.0209\n",
      "Epoch 9/100\n",
      "593/593 [==============================] - 2s 4ms/step - loss: 0.0209 - val_loss: 0.0209\n",
      "Epoch 10/100\n",
      "593/593 [==============================] - 2s 4ms/step - loss: 0.0209 - val_loss: 0.0210\n",
      "Epoch 11/100\n",
      "593/593 [==============================] - 2s 4ms/step - loss: 0.0208 - val_loss: 0.0208\n",
      "Epoch 12/100\n",
      "593/593 [==============================] - 2s 4ms/step - loss: 0.0208 - val_loss: 0.0207\n",
      "Epoch 13/100\n",
      "593/593 [==============================] - 2s 4ms/step - loss: 0.0208 - val_loss: 0.0210\n",
      "Epoch 14/100\n",
      "593/593 [==============================] - 2s 4ms/step - loss: 0.0207 - val_loss: 0.0206\n",
      "Epoch 15/100\n",
      "593/593 [==============================] - 2s 4ms/step - loss: 0.0208 - val_loss: 0.0208\n",
      "Epoch 16/100\n",
      "593/593 [==============================] - 2s 4ms/step - loss: 0.0206 - val_loss: 0.0207\n",
      "Epoch 17/100\n",
      "593/593 [==============================] - 2s 3ms/step - loss: 0.0205 - val_loss: 0.0206\n",
      "Epoch 18/100\n",
      "593/593 [==============================] - 2s 4ms/step - loss: 0.0206 - val_loss: 0.0206\n",
      "Epoch 19/100\n",
      "593/593 [==============================] - 2s 3ms/step - loss: 0.0204 - val_loss: 0.0209\n",
      "Epoch 20/100\n",
      "593/593 [==============================] - 2s 3ms/step - loss: 0.0205 - val_loss: 0.0209\n",
      "Epoch 21/100\n",
      "593/593 [==============================] - 2s 3ms/step - loss: 0.0206 - val_loss: 0.0207\n",
      "Epoch 22/100\n",
      "593/593 [==============================] - 2s 4ms/step - loss: 0.0204 - val_loss: 0.0204\n",
      "Epoch 23/100\n",
      "593/593 [==============================] - 2s 4ms/step - loss: 0.0207 - val_loss: 0.0208\n",
      "Epoch 24/100\n",
      "593/593 [==============================] - 2s 4ms/step - loss: 0.0204 - val_loss: 0.0205\n",
      "Epoch 25/100\n",
      "593/593 [==============================] - 2s 4ms/step - loss: 0.0204 - val_loss: 0.0202\n",
      "Epoch 26/100\n",
      "593/593 [==============================] - 2s 3ms/step - loss: 0.0205 - val_loss: 0.0206\n",
      "Epoch 27/100\n",
      "593/593 [==============================] - 2s 4ms/step - loss: 0.0206 - val_loss: 0.0204\n",
      "Epoch 28/100\n",
      "593/593 [==============================] - 2s 3ms/step - loss: 0.0204 - val_loss: 0.0209\n",
      "Epoch 29/100\n",
      "593/593 [==============================] - 2s 4ms/step - loss: 0.0206 - val_loss: 0.0207\n",
      "Epoch 30/100\n",
      "593/593 [==============================] - 2s 4ms/step - loss: 0.0206 - val_loss: 0.0211\n",
      "Epoch 31/100\n",
      "593/593 [==============================] - 2s 3ms/step - loss: 0.0209 - val_loss: 0.0203\n",
      "Epoch 32/100\n",
      "593/593 [==============================] - 2s 4ms/step - loss: 0.0205 - val_loss: 0.0205\n",
      "Epoch 33/100\n",
      "593/593 [==============================] - 2s 4ms/step - loss: 0.0204 - val_loss: 0.0206\n",
      "Epoch 34/100\n",
      "593/593 [==============================] - 2s 3ms/step - loss: 0.0204 - val_loss: 0.0203\n",
      "Epoch 35/100\n",
      "593/593 [==============================] - 2s 4ms/step - loss: 0.0206 - val_loss: 0.0209\n"
     ]
    }
   ],
   "source": [
    "history = face_model.fit(\n",
    "    pixel_data,\n",
    "    pixel_data,\n",
    "    validation_split=0.2,\n",
    "    batch_size=32,\n",
    "    epochs=100,\n",
    "    callbacks=[\n",
    "        tf.keras.callbacks.EarlyStopping(\n",
    "            monitor='val_loss',\n",
    "            patience=10,\n",
    "            restore_best_weights=True\n",
    "        )\n",
    "    ]\n",
    ")"
   ]
  },
  {
   "cell_type": "markdown",
   "metadata": {
    "papermill": {
     "duration": 1.042855,
     "end_time": "2021-03-03T20:15:15.288816",
     "exception": false,
     "start_time": "2021-03-03T20:15:14.245961",
     "status": "completed"
    },
    "tags": []
   },
   "source": [
    "# Image Reconstruction  \n",
    "  \n",
    "Let's see how the model does at reconstructing an image that it has already seen."
   ]
  },
  {
   "cell_type": "code",
   "execution_count": 11,
   "metadata": {
    "papermill": {
     "duration": 6.068032,
     "end_time": "2021-03-03T20:15:22.408697",
     "exception": false,
     "start_time": "2021-03-03T20:15:16.340665",
     "status": "completed"
    },
    "tags": []
   },
   "outputs": [
    {
     "name": "stdout",
     "output_type": "stream",
     "text": [
      "741/741 [==============================] - 1s 1ms/step\n"
     ]
    },
    {
     "data": {
      "image/png": "[encoded data removed]",
      "text/plain": [
       "<Figure size 1000x500 with 2 Axes>"
      ]
     },
     "metadata": {},
     "output_type": "display_data"
    }
   ],
   "source": [
    "i = 6  # Index of the image to be displayed\n",
    "\n",
    "sample = np.array(pixel_data)[i].copy()  # Copy the original image data at index i\n",
    "sample = sample.reshape(48, 48, 1)  # Reshape the image to 48x48x1\n",
    "\n",
    "reconstruction = face_model.predict(pixel_data)[i].copy()  # Predict and copy the reconstructed image at index i\n",
    "reconstruction = reconstruction.reshape(48, 48, 1)  # Reshape the reconstructed image to 48x48x1\n",
    "\n",
    "plt.figure(figsize=(10, 5))  # Create a figure with a specified size\n",
    "\n",
    "plt.subplot(1, 2, 1)  # Add a subplot in a 1x2 grid at position 1\n",
    "plt.imshow(sample, cmap='gray')  # Display the original image in grayscale\n",
    "plt.axis('off')  # Turn off axis labels\n",
    "plt.title(\"Original Image\")  # Set the title for the original image\n",
    "\n",
    "plt.subplot(1, 2, 2)  # Add a subplot in a 1x2 grid at position 2\n",
    "plt.imshow(reconstruction, cmap='gray')  # Display the reconstructed image in grayscale\n",
    "plt.axis('off')  # Turn off axis labels\n",
    "plt.title(\"Reconstructed Image\")  # Set the title for the reconstructed image\n",
    "\n",
    "plt.show()  # Display the figure with both subplots"
   ]
  },
  {
   "cell_type": "markdown",
   "metadata": {
    "papermill": {
     "duration": 1.098259,
     "end_time": "2021-03-03T20:15:24.579372",
     "exception": false,
     "start_time": "2021-03-03T20:15:23.481113",
     "status": "completed"
    },
    "tags": []
   },
   "source": [
    "# Specify our own latent variable values  \n",
    "  \n",
    "Now let's see how we can use our own values to generate never-before-seen images."
   ]
  },
  {
   "cell_type": "code",
   "execution_count": 12,
   "metadata": {
    "papermill": {
     "duration": 1.050291,
     "end_time": "2021-03-03T20:15:26.671018",
     "exception": false,
     "start_time": "2021-03-03T20:15:25.620727",
     "status": "completed"
    },
    "tags": []
   },
   "outputs": [],
   "source": [
    "# A function to allow us to specify our own latent variable values and plot the constructed image\n",
    "def generate_face_image(latent1, latent2, latent3):\n",
    "    latent_vars = np.array([[latent1, latent2, latent3]])  # Create a numpy array with the provided latent variables\n",
    "    reconstruction = np.array(face_decoder(latent_vars))  # Decode the latent variables to reconstruct the image\n",
    "    reconstruction = reconstruction.reshape(48, 48, 1)  # Reshape the reconstruction to the original image dimensions\n",
    "    plt.figure()  # Create a new figure for the plot\n",
    "    plt.imshow(reconstruction, cmap='gray')  # Display the image in grayscale\n",
    "    plt.axis('off')  # Turn off the axis\n",
    "    plt.show()  # Show the plot"
   ]
  },
  {
   "cell_type": "code",
   "execution_count": 13,
   "metadata": {
    "papermill": {
     "duration": 6.438486,
     "end_time": "2021-03-03T20:15:34.146686",
     "exception": false,
     "start_time": "2021-03-03T20:15:27.708200",
     "status": "completed"
    },
    "tags": []
   },
   "outputs": [],
   "source": [
    "# Let's get the min and max for each slider on the interactive widget\n",
    "\n",
    "# Calculate the minimum value for the first latent dimension\n",
    "latent1_min = np.min(face_encoder(pixel_data).numpy()[:, 0])  \n",
    "# Calculate the maximum value for the first latent dimension\n",
    "latent1_max = np.max(face_encoder(pixel_data).numpy()[:, 0])  \n",
    "\n",
    "# Calculate the minimum value for the second latent dimension\n",
    "latent2_min = np.min(face_encoder(pixel_data).numpy()[:, 1])  \n",
    "# Calculate the maximum value for the second latent dimension\n",
    "latent2_max = np.max(face_encoder(pixel_data).numpy()[:, 1])  \n",
    "\n",
    "# Calculate the minimum value for the third latent dimension\n",
    "latent3_min = np.min(face_encoder(pixel_data).numpy()[:, 2])  \n",
    "# Calculate the maximum value for the third latent dimension\n",
    "latent3_max = np.max(face_encoder(pixel_data).numpy()[:, 2])  "
   ]
  },
  {
   "cell_type": "code",
   "execution_count": 14,
   "metadata": {},
   "outputs": [
    {
     "name": "stdout",
     "output_type": "stream",
     "text": [
      "2.15.0\n"
     ]
    }
   ],
   "source": [
    "import tensorflow as tf\n",
    "print(tf.__version__)\n"
   ]
  },
  {
   "cell_type": "code",
   "execution_count": 15,
   "metadata": {
    "papermill": {
     "duration": 1.150626,
     "end_time": "2021-03-03T20:15:36.459224",
     "exception": false,
     "start_time": "2021-03-03T20:15:35.308598",
     "status": "completed"
    },
    "tags": []
   },
   "outputs": [
    {
     "data": {
      "image/png": "[encoded data removed]",
      "text/plain": [
       "<Figure size 640x480 with 1 Axes>"
      ]
     },
     "metadata": {},
     "output_type": "display_data"
    },
    {
     "data": {
      "application/vnd.jupyter.widget-view+json": {
       "model_id": "61096225944a407e94f11e195538d2b5",
       "version_major": 2,
       "version_minor": 0
      },
      "text/plain": [
       "interactive(children=(FloatSlider(value=-3.034311294555664, description='latent1', max=10.798378944396973, min…"
      ]
     },
     "metadata": {},
     "output_type": "display_data"
    },
    {
     "data": {
      "text/plain": [
       "<function __main__.generate_face_image(latent1, latent2, latent3)>"
      ]
     },
     "metadata": {},
     "output_type": "display_data"
    }
   ],
   "source": [
    "# Create the interactive widget\n",
    "face_image_generator = widgets.interact(  # Initialize the interactive widget\n",
    "    generate_face_image,  # Function to call when the widget's value changes\n",
    "    latent1=(latent1_min, latent1_max),  # Slider for latent1 with min and max values\n",
    "    latent2=(latent2_min, latent2_max),  # Slider for latent2 with min and max values\n",
    "    latent3=(latent3_min, latent3_max),  # Slider for latent3 with min and max values\n",
    ")\n",
    "\n",
    "# Display the widget\n",
    "display(face_image_generator)  # Render the widget in the output cell"
   ]
  },
  {
   "cell_type": "code",
   "execution_count": null,
   "metadata": {},
   "outputs": [],
   "source": []
  }
 ],
 "metadata": {
  "kernelspec": {
   "display_name": "Python 3 (ipykernel)",
   "language": "python",
   "name": "python3"
  },
  "language_info": {
   "codemirror_mode": {
    "name": "ipython",
    "version": 3
   },
   "file_extension": ".py",
   "mimetype": "text/x-python",
   "name": "python",
   "nbconvert_exporter": "python",
   "pygments_lexer": "ipython3",
   "version": "3.10.12"
  },
  "papermill": {
   "default_parameters": {},
   "duration": 346.206002,
   "end_time": "2021-03-03T20:15:40.769950",
   "environment_variables": {},
   "exception": null,
   "input_path": "__notebook__.ipynb",
   "output_path": "__notebook__.ipynb",
   "parameters": {},
   "start_time": "2021-03-03T20:09:54.563948",
   "version": "2.2.2"
  },
  "widgets": {
   "application/vnd.jupyter.widget-state+json": {
    "state": {
     "0d07310e5eb84074aaf411e2666c97cc": {
      "model_module": "@jupyter-widgets/controls",
      "model_module_version": "1.5.0",
      "model_name": "SliderStyleModel",
      "state": {
       "_model_module": "@jupyter-widgets/controls",
       "_model_module_version": "1.5.0",
       "_model_name": "SliderStyleModel",
       "_view_count": null,
       "_view_module": "@jupyter-widgets/base",
       "_view_module_version": "1.2.0",
       "_view_name": "StyleView",
       "description_width": "",
       "handle_color": null
      }
     },
     "16a055766eba41f49c1185c4e0edab00": {
      "model_module": "@jupyter-widgets/controls",
      "model_module_version": "1.5.0",
      "model_name": "SliderStyleModel",
      "state": {
       "_model_module": "@jupyter-widgets/controls",
       "_model_module_version": "1.5.0",
       "_model_name": "SliderStyleModel",
       "_view_count": null,
       "_view_module": "@jupyter-widgets/base",
       "_view_module_version": "1.2.0",
       "_view_name": "StyleView",
       "description_width": "",
       "handle_color": null
      }
     },
     "189a24139f9c41eaa6014418beb9ad1b": {
      "model_module": "@jupyter-widgets/controls",
      "model_module_version": "1.5.0",
      "model_name": "FloatSliderModel",
      "state": {
       "_dom_classes": [],
       "_model_module": "@jupyter-widgets/controls",
       "_model_module_version": "1.5.0",
       "_model_name": "FloatSliderModel",
       "_view_count": null,
       "_view_module": "@jupyter-widgets/controls",
       "_view_module_version": "1.5.0",
       "_view_name": "FloatSliderView",
       "continuous_update": true,
       "description": "latent3",
       "description_tooltip": null,
       "disabled": false,
       "layout": "IPY_MODEL_cf60453c62cf4bbe899f6c936ffef3d9",
       "max": 8.370866775512695,
       "min": -5.939612865447998,
       "orientation": "horizontal",
       "readout": true,
       "readout_format": ".2f",
       "step": 0.1,
       "style": "IPY_MODEL_2ba1e1180ff24e5a8590b01331ed36f7",
       "value": 1.060387134552002
      }
     },
     "2ba1e1180ff24e5a8590b01331ed36f7": {
      "model_module": "@jupyter-widgets/controls",
      "model_module_version": "1.5.0",
      "model_name": "SliderStyleModel",
      "state": {
       "_model_module": "@jupyter-widgets/controls",
       "_model_module_version": "1.5.0",
       "_model_name": "SliderStyleModel",
       "_view_count": null,
       "_view_module": "@jupyter-widgets/base",
       "_view_module_version": "1.2.0",
       "_view_name": "StyleView",
       "description_width": "",
       "handle_color": null
      }
     },
     "8dfa021c7e284fcf919719b5a97de47a": {
      "model_module": "@jupyter-widgets/output",
      "model_module_version": "1.0.0",
      "model_name": "OutputModel",
      "state": {
       "_dom_classes": [],
       "_model_module": "@jupyter-widgets/output",
       "_model_module_version": "1.0.0",
       "_model_name": "OutputModel",
       "_view_count": null,
       "_view_module": "@jupyter-widgets/output",
       "_view_module_version": "1.0.0",
       "_view_name": "OutputView",
       "layout": "IPY_MODEL_a3c4e259b0284d719578550fc6da047e",
       "msg_id": "",
       "outputs": [
        {
         "data": {
          "image/png": "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\n",
          "text/plain": "<Figure size 432x288 with 1 Axes>"
         },
         "metadata": {
          "needs_background": "light"
         },
         "output_type": "display_data"
        }
       ]
      }
     },
     "a3c4e259b0284d719578550fc6da047e": {
      "model_module": "@jupyter-widgets/base",
      "model_module_version": "1.2.0",
      "model_name": "LayoutModel",
      "state": {
       "_model_module": "@jupyter-widgets/base",
       "_model_module_version": "1.2.0",
       "_model_name": "LayoutModel",
       "_view_count": null,
       "_view_module": "@jupyter-widgets/base",
       "_view_module_version": "1.2.0",
       "_view_name": "LayoutView",
       "align_content": null,
       "align_items": null,
       "align_self": null,
       "border": null,
       "bottom": null,
       "display": null,
       "flex": null,
       "flex_flow": null,
       "grid_area": null,
       "grid_auto_columns": null,
       "grid_auto_flow": null,
       "grid_auto_rows": null,
       "grid_column": null,
       "grid_gap": null,
       "grid_row": null,
       "grid_template_areas": null,
       "grid_template_columns": null,
       "grid_template_rows": null,
       "height": null,
       "justify_content": null,
       "justify_items": null,
       "left": null,
       "margin": null,
       "max_height": null,
       "max_width": null,
       "min_height": null,
       "min_width": null,
       "object_fit": null,
       "object_position": null,
       "order": null,
       "overflow": null,
       "overflow_x": null,
       "overflow_y": null,
       "padding": null,
       "right": null,
       "top": null,
       "visibility": null,
       "width": null
      }
     },
     "aaed0df084964c9792a7acfb338fc205": {
      "model_module": "@jupyter-widgets/base",
      "model_module_version": "1.2.0",
      "model_name": "LayoutModel",
      "state": {
       "_model_module": "@jupyter-widgets/base",
       "_model_module_version": "1.2.0",
       "_model_name": "LayoutModel",
       "_view_count": null,
       "_view_module": "@jupyter-widgets/base",
       "_view_module_version": "1.2.0",
       "_view_name": "LayoutView",
       "align_content": null,
       "align_items": null,
       "align_self": null,
       "border": null,
       "bottom": null,
       "display": null,
       "flex": null,
       "flex_flow": null,
       "grid_area": null,
       "grid_auto_columns": null,
       "grid_auto_flow": null,
       "grid_auto_rows": null,
       "grid_column": null,
       "grid_gap": null,
       "grid_row": null,
       "grid_template_areas": null,
       "grid_template_columns": null,
       "grid_template_rows": null,
       "height": null,
       "justify_content": null,
       "justify_items": null,
       "left": null,
       "margin": null,
       "max_height": null,
       "max_width": null,
       "min_height": null,
       "min_width": null,
       "object_fit": null,
       "object_position": null,
       "order": null,
       "overflow": null,
       "overflow_x": null,
       "overflow_y": null,
       "padding": null,
       "right": null,
       "top": null,
       "visibility": null,
       "width": null
      }
     },
     "ad3ab5ef238b4c9f99df1bf3c6583a60": {
      "model_module": "@jupyter-widgets/controls",
      "model_module_version": "1.5.0",
      "model_name": "FloatSliderModel",
      "state": {
       "_dom_classes": [],
       "_model_module": "@jupyter-widgets/controls",
       "_model_module_version": "1.5.0",
       "_model_name": "FloatSliderModel",
       "_view_count": null,
       "_view_module": "@jupyter-widgets/controls",
       "_view_module_version": "1.5.0",
       "_view_name": "FloatSliderView",
       "continuous_update": true,
       "description": "latent2",
       "description_tooltip": null,
       "disabled": false,
       "layout": "IPY_MODEL_cf49171d427f40d2b00c8b4f47badd16",
       "max": 12.81850814819336,
       "min": -0.5383148193359375,
       "orientation": "horizontal",
       "readout": true,
       "readout_format": ".2f",
       "step": 0.1,
       "style": "IPY_MODEL_0d07310e5eb84074aaf411e2666c97cc",
       "value": 5.4616851806640625
      }
     },
     "bac9aac8f27a4e8f8f1c21534a5b209c": {
      "model_module": "@jupyter-widgets/controls",
      "model_module_version": "1.5.0",
      "model_name": "FloatSliderModel",
      "state": {
       "_dom_classes": [],
       "_model_module": "@jupyter-widgets/controls",
       "_model_module_version": "1.5.0",
       "_model_name": "FloatSliderModel",
       "_view_count": null,
       "_view_module": "@jupyter-widgets/controls",
       "_view_module_version": "1.5.0",
       "_view_name": "FloatSliderView",
       "continuous_update": true,
       "description": "latent1",
       "description_tooltip": null,
       "disabled": false,
       "layout": "IPY_MODEL_aaed0df084964c9792a7acfb338fc205",
       "max": 10.318687438964844,
       "min": -4.500275135040283,
       "orientation": "horizontal",
       "readout": true,
       "readout_format": ".2f",
       "step": 0.1,
       "style": "IPY_MODEL_16a055766eba41f49c1185c4e0edab00",
       "value": 2.499724864959717
      }
     },
     "cf49171d427f40d2b00c8b4f47badd16": {
      "model_module": "@jupyter-widgets/base",
      "model_module_version": "1.2.0",
      "model_name": "LayoutModel",
      "state": {
       "_model_module": "@jupyter-widgets/base",
       "_model_module_version": "1.2.0",
       "_model_name": "LayoutModel",
       "_view_count": null,
       "_view_module": "@jupyter-widgets/base",
       "_view_module_version": "1.2.0",
       "_view_name": "LayoutView",
       "align_content": null,
       "align_items": null,
       "align_self": null,
       "border": null,
       "bottom": null,
       "display": null,
       "flex": null,
       "flex_flow": null,
       "grid_area": null,
       "grid_auto_columns": null,
       "grid_auto_flow": null,
       "grid_auto_rows": null,
       "grid_column": null,
       "grid_gap": null,
       "grid_row": null,
       "grid_template_areas": null,
       "grid_template_columns": null,
       "grid_template_rows": null,
       "height": null,
       "justify_content": null,
       "justify_items": null,
       "left": null,
       "margin": null,
       "max_height": null,
       "max_width": null,
       "min_height": null,
       "min_width": null,
       "object_fit": null,
       "object_position": null,
       "order": null,
       "overflow": null,
       "overflow_x": null,
       "overflow_y": null,
       "padding": null,
       "right": null,
       "top": null,
       "visibility": null,
       "width": null
      }
     },
     "cf60453c62cf4bbe899f6c936ffef3d9": {
      "model_module": "@jupyter-widgets/base",
      "model_module_version": "1.2.0",
      "model_name": "LayoutModel",
      "state": {
       "_model_module": "@jupyter-widgets/base",
       "_model_module_version": "1.2.0",
       "_model_name": "LayoutModel",
       "_view_count": null,
       "_view_module": "@jupyter-widgets/base",
       "_view_module_version": "1.2.0",
       "_view_name": "LayoutView",
       "align_content": null,
       "align_items": null,
       "align_self": null,
       "border": null,
       "bottom": null,
       "display": null,
       "flex": null,
       "flex_flow": null,
       "grid_area": null,
       "grid_auto_columns": null,
       "grid_auto_flow": null,
       "grid_auto_rows": null,
       "grid_column": null,
       "grid_gap": null,
       "grid_row": null,
       "grid_template_areas": null,
       "grid_template_columns": null,
       "grid_template_rows": null,
       "height": null,
       "justify_content": null,
       "justify_items": null,
       "left": null,
       "margin": null,
       "max_height": null,
       "max_width": null,
       "min_height": null,
       "min_width": null,
       "object_fit": null,
       "object_position": null,
       "order": null,
       "overflow": null,
       "overflow_x": null,
       "overflow_y": null,
       "padding": null,
       "right": null,
       "top": null,
       "visibility": null,
       "width": null
      }
     },
     "db2015d81e554a9b97e943b812058b18": {
      "model_module": "@jupyter-widgets/base",
      "model_module_version": "1.2.0",
      "model_name": "LayoutModel",
      "state": {
       "_model_module": "@jupyter-widgets/base",
       "_model_module_version": "1.2.0",
       "_model_name": "LayoutModel",
       "_view_count": null,
       "_view_module": "@jupyter-widgets/base",
       "_view_module_version": "1.2.0",
       "_view_name": "LayoutView",
       "align_content": null,
       "align_items": null,
       "align_self": null,
       "border": null,
       "bottom": null,
       "display": null,
       "flex": null,
       "flex_flow": null,
       "grid_area": null,
       "grid_auto_columns": null,
       "grid_auto_flow": null,
       "grid_auto_rows": null,
       "grid_column": null,
       "grid_gap": null,
       "grid_row": null,
       "grid_template_areas": null,
       "grid_template_columns": null,
       "grid_template_rows": null,
       "height": null,
       "justify_content": null,
       "justify_items": null,
       "left": null,
       "margin": null,
       "max_height": null,
       "max_width": null,
       "min_height": null,
       "min_width": null,
       "object_fit": null,
       "object_position": null,
       "order": null,
       "overflow": null,
       "overflow_x": null,
       "overflow_y": null,
       "padding": null,
       "right": null,
       "top": null,
       "visibility": null,
       "width": null
      }
     },
     "e524d177e15f488cacb9e592687ff467": {
      "model_module": "@jupyter-widgets/controls",
      "model_module_version": "1.5.0",
      "model_name": "VBoxModel",
      "state": {
       "_dom_classes": [
        "widget-interact"
       ],
       "_model_module": "@jupyter-widgets/controls",
       "_model_module_version": "1.5.0",
       "_model_name": "VBoxModel",
       "_view_count": null,
       "_view_module": "@jupyter-widgets/controls",
       "_view_module_version": "1.5.0",
       "_view_name": "VBoxView",
       "box_style": "",
       "children": [
        "IPY_MODEL_bac9aac8f27a4e8f8f1c21534a5b209c",
        "IPY_MODEL_ad3ab5ef238b4c9f99df1bf3c6583a60",
        "IPY_MODEL_189a24139f9c41eaa6014418beb9ad1b",
        "IPY_MODEL_8dfa021c7e284fcf919719b5a97de47a"
       ],
       "layout": "IPY_MODEL_db2015d81e554a9b97e943b812058b18"
      }
     }
    },
    "version_major": 2,
    "version_minor": 0
   }
  }
 },
 "nbformat": 4,
 "nbformat_minor": 4
}
